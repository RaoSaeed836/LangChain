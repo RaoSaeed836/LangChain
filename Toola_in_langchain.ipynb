{
  "nbformat": 4,
  "nbformat_minor": 0,
  "metadata": {
    "colab": {
      "provenance": [],
      "authorship_tag": "ABX9TyOAbeEXp4hielY3LCRGCxz3",
      "include_colab_link": true
    },
    "kernelspec": {
      "name": "python3",
      "display_name": "Python 3"
    },
    "language_info": {
      "name": "python"
    }
  },
  "cells": [
    {
      "cell_type": "markdown",
      "metadata": {
        "id": "view-in-github",
        "colab_type": "text"
      },
      "source": [
        "<a href=\"https://colab.research.google.com/github/RaoSaeed836/LangChain/blob/main/Toola_in_langchain.ipynb\" target=\"_parent\"><img src=\"https://colab.research.google.com/assets/colab-badge.svg\" alt=\"Open In Colab\"/></a>"
      ]
    },
    {
      "cell_type": "code",
      "execution_count": 5,
      "metadata": {
        "colab": {
          "base_uri": "https://localhost:8080/"
        },
        "id": "jmEqGvwkSDs1",
        "outputId": "5c9b1a2f-54f8-43ab-e45a-c1f351aa8254"
      },
      "outputs": [
        {
          "output_type": "stream",
          "name": "stdout",
          "text": [
            "Requirement already satisfied: langchain in /usr/local/lib/python3.11/dist-packages (0.3.27)\n",
            "Requirement already satisfied: langchain-core in /usr/local/lib/python3.11/dist-packages (0.3.72)\n",
            "Requirement already satisfied: langchain-community in /usr/local/lib/python3.11/dist-packages (0.3.27)\n",
            "Requirement already satisfied: pydantic in /usr/local/lib/python3.11/dist-packages (2.11.7)\n",
            "Requirement already satisfied: duckduckgo-search in /usr/local/lib/python3.11/dist-packages (8.1.1)\n",
            "Collecting langchain_experimental\n",
            "  Downloading langchain_experimental-0.3.4-py3-none-any.whl.metadata (1.7 kB)\n",
            "Requirement already satisfied: langchain-text-splitters<1.0.0,>=0.3.9 in /usr/local/lib/python3.11/dist-packages (from langchain) (0.3.9)\n",
            "Requirement already satisfied: langsmith>=0.1.17 in /usr/local/lib/python3.11/dist-packages (from langchain) (0.4.8)\n",
            "Requirement already satisfied: SQLAlchemy<3,>=1.4 in /usr/local/lib/python3.11/dist-packages (from langchain) (2.0.41)\n",
            "Requirement already satisfied: requests<3,>=2 in /usr/local/lib/python3.11/dist-packages (from langchain) (2.32.3)\n",
            "Requirement already satisfied: PyYAML>=5.3 in /usr/local/lib/python3.11/dist-packages (from langchain) (6.0.2)\n",
            "Requirement already satisfied: tenacity!=8.4.0,<10.0.0,>=8.1.0 in /usr/local/lib/python3.11/dist-packages (from langchain-core) (8.5.0)\n",
            "Requirement already satisfied: jsonpatch<2.0,>=1.33 in /usr/local/lib/python3.11/dist-packages (from langchain-core) (1.33)\n",
            "Requirement already satisfied: typing-extensions>=4.7 in /usr/local/lib/python3.11/dist-packages (from langchain-core) (4.14.1)\n",
            "Requirement already satisfied: packaging>=23.2 in /usr/local/lib/python3.11/dist-packages (from langchain-core) (25.0)\n",
            "Requirement already satisfied: aiohttp<4.0.0,>=3.8.3 in /usr/local/lib/python3.11/dist-packages (from langchain-community) (3.12.14)\n",
            "Requirement already satisfied: dataclasses-json<0.7,>=0.5.7 in /usr/local/lib/python3.11/dist-packages (from langchain-community) (0.6.7)\n",
            "Requirement already satisfied: pydantic-settings<3.0.0,>=2.4.0 in /usr/local/lib/python3.11/dist-packages (from langchain-community) (2.10.1)\n",
            "Requirement already satisfied: httpx-sse<1.0.0,>=0.4.0 in /usr/local/lib/python3.11/dist-packages (from langchain-community) (0.4.1)\n",
            "Requirement already satisfied: numpy>=1.26.2 in /usr/local/lib/python3.11/dist-packages (from langchain-community) (2.0.2)\n",
            "Requirement already satisfied: annotated-types>=0.6.0 in /usr/local/lib/python3.11/dist-packages (from pydantic) (0.7.0)\n",
            "Requirement already satisfied: pydantic-core==2.33.2 in /usr/local/lib/python3.11/dist-packages (from pydantic) (2.33.2)\n",
            "Requirement already satisfied: typing-inspection>=0.4.0 in /usr/local/lib/python3.11/dist-packages (from pydantic) (0.4.1)\n",
            "Requirement already satisfied: click>=8.1.8 in /usr/local/lib/python3.11/dist-packages (from duckduckgo-search) (8.2.1)\n",
            "Requirement already satisfied: primp>=0.15.0 in /usr/local/lib/python3.11/dist-packages (from duckduckgo-search) (0.15.0)\n",
            "Requirement already satisfied: lxml>=5.3.0 in /usr/local/lib/python3.11/dist-packages (from duckduckgo-search) (5.4.0)\n",
            "Requirement already satisfied: aiohappyeyeballs>=2.5.0 in /usr/local/lib/python3.11/dist-packages (from aiohttp<4.0.0,>=3.8.3->langchain-community) (2.6.1)\n",
            "Requirement already satisfied: aiosignal>=1.4.0 in /usr/local/lib/python3.11/dist-packages (from aiohttp<4.0.0,>=3.8.3->langchain-community) (1.4.0)\n",
            "Requirement already satisfied: attrs>=17.3.0 in /usr/local/lib/python3.11/dist-packages (from aiohttp<4.0.0,>=3.8.3->langchain-community) (25.3.0)\n",
            "Requirement already satisfied: frozenlist>=1.1.1 in /usr/local/lib/python3.11/dist-packages (from aiohttp<4.0.0,>=3.8.3->langchain-community) (1.7.0)\n",
            "Requirement already satisfied: multidict<7.0,>=4.5 in /usr/local/lib/python3.11/dist-packages (from aiohttp<4.0.0,>=3.8.3->langchain-community) (6.6.3)\n",
            "Requirement already satisfied: propcache>=0.2.0 in /usr/local/lib/python3.11/dist-packages (from aiohttp<4.0.0,>=3.8.3->langchain-community) (0.3.2)\n",
            "Requirement already satisfied: yarl<2.0,>=1.17.0 in /usr/local/lib/python3.11/dist-packages (from aiohttp<4.0.0,>=3.8.3->langchain-community) (1.20.1)\n",
            "Requirement already satisfied: marshmallow<4.0.0,>=3.18.0 in /usr/local/lib/python3.11/dist-packages (from dataclasses-json<0.7,>=0.5.7->langchain-community) (3.26.1)\n",
            "Requirement already satisfied: typing-inspect<1,>=0.4.0 in /usr/local/lib/python3.11/dist-packages (from dataclasses-json<0.7,>=0.5.7->langchain-community) (0.9.0)\n",
            "Requirement already satisfied: jsonpointer>=1.9 in /usr/local/lib/python3.11/dist-packages (from jsonpatch<2.0,>=1.33->langchain-core) (3.0.0)\n",
            "Requirement already satisfied: httpx<1,>=0.23.0 in /usr/local/lib/python3.11/dist-packages (from langsmith>=0.1.17->langchain) (0.28.1)\n",
            "Requirement already satisfied: orjson<4.0.0,>=3.9.14 in /usr/local/lib/python3.11/dist-packages (from langsmith>=0.1.17->langchain) (3.11.0)\n",
            "Requirement already satisfied: requests-toolbelt<2.0.0,>=1.0.0 in /usr/local/lib/python3.11/dist-packages (from langsmith>=0.1.17->langchain) (1.0.0)\n",
            "Requirement already satisfied: zstandard<0.24.0,>=0.23.0 in /usr/local/lib/python3.11/dist-packages (from langsmith>=0.1.17->langchain) (0.23.0)\n",
            "Requirement already satisfied: python-dotenv>=0.21.0 in /usr/local/lib/python3.11/dist-packages (from pydantic-settings<3.0.0,>=2.4.0->langchain-community) (1.1.1)\n",
            "Requirement already satisfied: charset-normalizer<4,>=2 in /usr/local/lib/python3.11/dist-packages (from requests<3,>=2->langchain) (3.4.2)\n",
            "Requirement already satisfied: idna<4,>=2.5 in /usr/local/lib/python3.11/dist-packages (from requests<3,>=2->langchain) (3.10)\n",
            "Requirement already satisfied: urllib3<3,>=1.21.1 in /usr/local/lib/python3.11/dist-packages (from requests<3,>=2->langchain) (2.5.0)\n",
            "Requirement already satisfied: certifi>=2017.4.17 in /usr/local/lib/python3.11/dist-packages (from requests<3,>=2->langchain) (2025.7.14)\n",
            "Requirement already satisfied: greenlet>=1 in /usr/local/lib/python3.11/dist-packages (from SQLAlchemy<3,>=1.4->langchain) (3.2.3)\n",
            "Requirement already satisfied: anyio in /usr/local/lib/python3.11/dist-packages (from httpx<1,>=0.23.0->langsmith>=0.1.17->langchain) (4.9.0)\n",
            "Requirement already satisfied: httpcore==1.* in /usr/local/lib/python3.11/dist-packages (from httpx<1,>=0.23.0->langsmith>=0.1.17->langchain) (1.0.9)\n",
            "Requirement already satisfied: h11>=0.16 in /usr/local/lib/python3.11/dist-packages (from httpcore==1.*->httpx<1,>=0.23.0->langsmith>=0.1.17->langchain) (0.16.0)\n",
            "Requirement already satisfied: mypy-extensions>=0.3.0 in /usr/local/lib/python3.11/dist-packages (from typing-inspect<1,>=0.4.0->dataclasses-json<0.7,>=0.5.7->langchain-community) (1.1.0)\n",
            "Requirement already satisfied: sniffio>=1.1 in /usr/local/lib/python3.11/dist-packages (from anyio->httpx<1,>=0.23.0->langsmith>=0.1.17->langchain) (1.3.1)\n",
            "Downloading langchain_experimental-0.3.4-py3-none-any.whl (209 kB)\n",
            "\u001b[2K   \u001b[90m━━━━━━━━━━━━━━━━━━━━━━━━━━━━━━━━━━━━━━━━\u001b[0m \u001b[32m209.2/209.2 kB\u001b[0m \u001b[31m4.4 MB/s\u001b[0m eta \u001b[36m0:00:00\u001b[0m\n",
            "\u001b[?25hInstalling collected packages: langchain_experimental\n",
            "Successfully installed langchain_experimental-0.3.4\n"
          ]
        }
      ],
      "source": [
        "!pip install langchain langchain-core langchain-community pydantic duckduckgo-search langchain_experimental"
      ]
    },
    {
      "cell_type": "markdown",
      "source": [
        "###Built_in_Tool_DuckDuckGO Search"
      ],
      "metadata": {
        "id": "vD7wxUPISjcg"
      }
    },
    {
      "cell_type": "code",
      "source": [
        "\n",
        "# jo ya tools hoty ha they are also runaable which means an ka pas bhe apna invoke function hota ha\n",
        "from langchain_community.tools import DuckDuckGoSearchRun\n",
        "search_tool=DuckDuckGoSearchRun()\n",
        "result=search_tool.invoke(\"news about psl\")\n",
        "#behind the sene ya hoga ya query uth kr jay ge duckduckgo ka search engine pr wha search hoga query or jo resukt ay gy wo apko plut kr ml jay gy\n",
        "print(result)"
      ],
      "metadata": {
        "colab": {
          "base_uri": "https://localhost:8080/"
        },
        "id": "DOLclmg6Siu6",
        "outputId": "e7c32203-eb40-4cd4-8d73-6d69dcbf3637"
      },
      "execution_count": 6,
      "outputs": [
        {
          "output_type": "stream",
          "name": "stdout",
          "text": [
            "vBulletin ForumsThere are currently 9829 users online. 2 members and 9827 guests. Most users ever online was 139,917 at 11:14 PM on January 30, 2025. sharon sanders , Michael Coston Jan 16, 2024 · WCS NEWS RELEASE Urgent Message from WCS as the Avian Influenza Virus Threatens Wildlife Across the Globe Massive Die-Off of Elephant Seals in Argentina Due to Avian Influenza Is Latest Sign that the Virus Is an Existential Threat to Wildlife NEW YORK , NY | JANUARY 15, 2024 New York, January 15, 2024 – The Wildlife Conservation Society is issuing the following statement about H5N1 Avian ... Sep 6, 2024 · CBS News - Update on H5N1 human vaccines? Missouri patient and contacts cooperating? What is questionaire like? Ruled out all the sources? Ans. Have pre-filled syringes, and have pre-fill ready to go - cleared company testing...in stockpile...not approved by FDA. Ans. The case is cooperative. Sep 4, 2024 · News brief Today at 2:12 p.m. Stephanie Soucheray, MA Topics COVID-19 A new study from researchers at the University of South Australia reveals that wearable activity trackers, such as Apple Watches and Fitbits, show promise in detecting early signals of disease—particularly atrial fibrillation associated with stroke and COVID-19. Oct 16, 2022 · Join Date: Feb 2006 Posts: 54050 Share Tweet #1 Avian flu H5N1 discussion - news/case lists links - 2022+ October 16, 2022, 11:40 AM Tom Peacock @PeacockFlu Thread of avian influenza virus (AIV). First off a PSA - DO NOT touch, handle or attempt to treat suspected sick or dead birds yourself - particularly poultry, waterfowl (ducks, geese, etc ...\n"
          ]
        },
        {
          "output_type": "stream",
          "name": "stderr",
          "text": [
            "/usr/local/lib/python3.11/dist-packages/langchain_community/utilities/duckduckgo_search.py:63: RuntimeWarning: This package (`duckduckgo_search`) has been renamed to `ddgs`! Use `pip install ddgs` instead.\n",
            "  with DDGS() as ddgs:\n"
          ]
        }
      ]
    },
    {
      "cell_type": "markdown",
      "source": [
        "###Built_in_Tool_Shell Tool"
      ],
      "metadata": {
        "id": "12t0nixcULUP"
      }
    },
    {
      "cell_type": "code",
      "source": [
        "from langchain_community.tools import ShellTool\n",
        "shell_tools=ShellTool()\n",
        "result=shell_tools.invoke('ls')\n",
        "print(result)"
      ],
      "metadata": {
        "colab": {
          "base_uri": "https://localhost:8080/"
        },
        "id": "tU9mgJM9Sir5",
        "outputId": "3165b815-f58e-4045-de58-162ef28e8b75"
      },
      "execution_count": 9,
      "outputs": [
        {
          "output_type": "stream",
          "name": "stdout",
          "text": [
            "Executing command:\n",
            " ls\n",
            "sample_data\n",
            "\n"
          ]
        },
        {
          "output_type": "stream",
          "name": "stderr",
          "text": [
            "/usr/local/lib/python3.11/dist-packages/langchain_community/tools/shell/tool.py:33: UserWarning: The shell tool has no safeguards by default. Use at your own risk.\n",
            "  warnings.warn(\n"
          ]
        }
      ]
    },
    {
      "cell_type": "code",
      "source": [
        "print(shell_tools.name)\n",
        "print(shell_tools.description)\n",
        "print(shell_tools.args)"
      ],
      "metadata": {
        "id": "tgPcXesic_ac"
      },
      "execution_count": null,
      "outputs": []
    },
    {
      "cell_type": "markdown",
      "source": [
        "###Custom_Tools"
      ],
      "metadata": {
        "id": "INUukAj4VvxM"
      }
    },
    {
      "cell_type": "code",
      "source": [
        "from langchain_core.tools import tool"
      ],
      "metadata": {
        "colab": {
          "base_uri": "https://localhost:8080/"
        },
        "id": "g1YZx8F1Sipj",
        "outputId": "adf7cf4f-7589-4939-a4f7-a25ebb86695d"
      },
      "execution_count": 10,
      "outputs": [
        {
          "output_type": "stream",
          "name": "stderr",
          "text": [
            "<frozen importlib._bootstrap>:1047: ImportWarning: _PyDriveImportHook.find_spec() not found; falling back to find_module()\n",
            "<frozen importlib._bootstrap>:1047: ImportWarning: _PyDriveImportHook.find_spec() not found; falling back to find_module()\n",
            "<frozen importlib._bootstrap>:1047: ImportWarning: _PyDriveImportHook.find_spec() not found; falling back to find_module()\n"
          ]
        }
      ]
    },
    {
      "cell_type": "code",
      "source": [
        "# step 1 create function for your tool\n",
        "\n",
        "#  man lo hmary llmm ko * nahe ata kyo ka asy math nhe ata to hm ya kr rhyha ka hm aik externel function bna rhy ha jes ko 2 nukber do wo * perfirm krdy ga\n",
        "\n",
        "def multiply(a,b):\n",
        "  \"\"\" Multiply two numbers\"\"\"\n",
        "  # function is same like python but aik chez different ha yha hm  na aik doc string add kya ha functionma\n",
        "  # jo bta rha h aka function krta kiah a doc string hala k azarori nahe ha laken highly recomend ap as ko use kry\n",
        "  # kyo ka ya yane as doc string ke help sa future ma hmary lllm ko smjh ma ay ga ya function\\tool krta kia ha\n",
        "  return a*b"
      ],
      "metadata": {
        "id": "TXm5nsQ1Sima"
      },
      "execution_count": 14,
      "outputs": []
    },
    {
      "cell_type": "code",
      "source": [
        "# step 2  add type hinting\n",
        "\n",
        "# apny function ma type hinting add krty ho\n",
        "# ager apko input ma a or b chat to btao gy  a or n ka type kia rhny wala ha\n",
        "# ager apka function plut kr ka aik integer return ktr rha ha to btao gy ka ya function integer return krta h a\n",
        "# asko type hinting khty ha\n",
        "\n",
        "# ya bhe zarori nahe laken higly recomend ha\n",
        "# as lllm ko smjh ateha asy kes trha ka data inpout ma dena ha or kes trha ka data wo expect kr sktaha tool sa\n",
        "\n",
        "\n",
        "def multiply(a:int,b:int) -> int:\n",
        "  \"\"\" Multiply two numbers\"\"\"\n",
        "  return a*b"
      ],
      "metadata": {
        "id": "0f8NHAjvSij_"
      },
      "execution_count": 15,
      "outputs": []
    },
    {
      "cell_type": "code",
      "source": [
        "#step 3 add tool decorator\n",
        "\n",
        "# yha pr hm function ka uper @tool  decorator lga dety ho ya or ya  #tool decorator as funtion ko aik special funtion bna detaha\n",
        "# ab llm as funtion sa communicate kr skta ha sara ka sara magic as decorator ma chupa hovaha\n",
        "\n",
        "@tool\n",
        "def multiply(a:int,b:int) -> int:\n",
        "  \"\"\" Multiply two numbers\"\"\"\n",
        "  return a*b"
      ],
      "metadata": {
        "id": "Af2Cdr5SZ4sW"
      },
      "execution_count": 16,
      "outputs": []
    },
    {
      "cell_type": "code",
      "source": [
        "# # going forward apko koe bhe tool banana ha  ya 3 step krna bs\n",
        "# 1. us funtion ka logic likhana ha\n",
        "# 2.type hinting lgane ha\n",
        "# 3.us ka sir ka uper #tools decorator lga dena ha"
      ],
      "metadata": {
        "id": "7QWl9PIHZ4o1"
      },
      "execution_count": 21,
      "outputs": []
    },
    {
      "cell_type": "code",
      "source": [
        "# as funtion ka name ko he tool ka name booly gy\n",
        "# sinve ya tool ha to ya aik runnable bhe ha to as ka pas invoke function ke capbiliy ha\n",
        "result1=multiply.invoke({\"a\":4,\"b\":8})\n"
      ],
      "metadata": {
        "id": "LjGqFtZJZ4mg"
      },
      "execution_count": 17,
      "outputs": []
    },
    {
      "cell_type": "code",
      "source": [
        "print(result1)"
      ],
      "metadata": {
        "colab": {
          "base_uri": "https://localhost:8080/"
        },
        "id": "thGh6Mx5Z4jU",
        "outputId": "2ede0562-afb7-4261-ccd2-100dfb8c4278"
      },
      "execution_count": 18,
      "outputs": [
        {
          "output_type": "stream",
          "name": "stdout",
          "text": [
            "32\n"
          ]
        }
      ]
    },
    {
      "cell_type": "code",
      "source": [
        "# ya funtion normal function nahe ha ya aik tool ha or as tool ka sath llm na interact krna hota ha"
      ],
      "metadata": {
        "id": "8YsgAjMyZ4g7"
      },
      "execution_count": null,
      "outputs": []
    },
    {
      "cell_type": "code",
      "source": [
        "# ya function khas kesy ha wo dekhyt ha as ka pas khuch capapbilty ha ab\n",
        "# multiply tool ka name ha or asko function bhe kh skkty ha\n",
        "print(multiply.name)\n",
        "print(multiply.description)\n",
        "print(multiply.args)\n",
        "# kese bhe tool ks pas ya 3 attributes hoty ha"
      ],
      "metadata": {
        "colab": {
          "base_uri": "https://localhost:8080/"
        },
        "id": "7wsNIrr6SihW",
        "outputId": "e4724dea-25ec-45de-8d58-c809fb3faeb6"
      },
      "execution_count": 19,
      "outputs": [
        {
          "output_type": "stream",
          "name": "stdout",
          "text": [
            "multiply\n",
            "Multiply two numbers\n",
            "{'a': {'title': 'A', 'type': 'integer'}, 'b': {'title': 'B', 'type': 'integer'}}\n"
          ]
        }
      ]
    },
    {
      "cell_type": "code",
      "source": [
        "# jb apa stool ko llm ka pas bhijty ho to llm ko kia dekhae deta ha\n",
        "# llm ko ya tool nhe dekhae deta asy aik bda sa json schema dekhae deta ha  bda sa\n",
        "print(multiply.args_schema.model_json_schema())"
      ],
      "metadata": {
        "colab": {
          "base_uri": "https://localhost:8080/"
        },
        "id": "XIJQdKjUSier",
        "outputId": "64bf3b44-89b1-4619-aa7c-1d4804ec2d88"
      },
      "execution_count": 22,
      "outputs": [
        {
          "output_type": "stream",
          "name": "stdout",
          "text": [
            "{'description': 'Multiply two numbers', 'properties': {'a': {'title': 'A', 'type': 'integer'}, 'b': {'title': 'B', 'type': 'integer'}}, 'required': ['a', 'b'], 'title': 'multiply', 'type': 'object'}\n"
          ]
        }
      ]
    },
    {
      "cell_type": "code",
      "source": [
        "# llm ko actualy ya chez dekahe detet ha jo hm ns json tools pr run kia tah jo answer aya tha wo wala\n",
        "# rather then asy us function ka logic asy ya  hm asy ya bhijty ha ya wale chez or ya hmary tool ka schema hota h aya wale xhez jo screen pr ha\n",
        "\n",
        "# jb bhe ap tool or llm ko conneect kro gy to ap tool nhe bhijty llm ka pas blky tool ka schema jata ha llm ka pas"
      ],
      "metadata": {
        "id": "UO69TG3kd_a6"
      },
      "execution_count": null,
      "outputs": []
    },
    {
      "cell_type": "markdown",
      "source": [
        "###Method 2 -Using StructureTool"
      ],
      "metadata": {
        "id": "o39VfSd4ihGX"
      }
    },
    {
      "cell_type": "code",
      "source": [
        "from langchain.tools import StructuredTool\n",
        "from pydantic import BaseModel,Field"
      ],
      "metadata": {
        "id": "MrAuPB7RinbO"
      },
      "execution_count": 23,
      "outputs": []
    },
    {
      "cell_type": "code",
      "source": [
        "from typing_extensions import Required\n",
        "class multiplyinput(BaseModel):\n",
        "  a: int =Field(Required=True,description=\"The first nuber to add\")\n",
        "  b: int =Field(Required=True,description=\"The first nuber to add\")\n",
        "  # 2 attribuye ha s class ma  a or b or dono integer ha or ask elavav extran information bhe add ke ha filed function ma"
      ],
      "metadata": {
        "colab": {
          "base_uri": "https://localhost:8080/"
        },
        "id": "qMkHMUvsioOu",
        "outputId": "f71e1eaf-8c19-48d9-ecd4-4f99d727526d"
      },
      "execution_count": 24,
      "outputs": [
        {
          "output_type": "stream",
          "name": "stderr",
          "text": [
            "/usr/local/lib/python3.11/dist-packages/pydantic/fields.py:1093: PydanticDeprecatedSince20: Using extra keyword arguments on `Field` is deprecated and will be removed. Use `json_schema_extra` instead. (Extra keys: 'Required'). Deprecated in Pydantic V2.0 to be removed in V3.0. See Pydantic V2 Migration Guide at https://errors.pydantic.dev/2.11/migration/\n",
            "  warn(\n",
            "/usr/local/lib/python3.11/dist-packages/pydantic/fields.py:1093: PydanticDeprecatedSince20: Using extra keyword arguments on `Field` is deprecated and will be removed. Use `json_schema_extra` instead. (Extra keys: 'Required'). Deprecated in Pydantic V2.0 to be removed in V3.0. See Pydantic V2 Migration Guide at https://errors.pydantic.dev/2.11/migration/\n",
            "  warn(\n"
          ]
        }
      ]
    },
    {
      "cell_type": "code",
      "source": [
        "def multiply_fun(a:int,b:int)->int:\n",
        "  return a*b"
      ],
      "metadata": {
        "id": "FTOn3R9pioK6"
      },
      "execution_count": 25,
      "outputs": []
    },
    {
      "cell_type": "code",
      "source": [
        "multiply_tool=StructuredTool.from_function(\n",
        "    func=multiply_fun,  # function kia ajes ke gelp sa tool bnanbba ha\n",
        "    name=\"multiply\",   # as funtion ko aik name dy gy\n",
        "    description=\"multiply two numbr\",#\n",
        "    args_schema=multiplyinput# y ha important step ha yha hm apna pydantic lass ka name dy gy\n",
        "    )"
      ],
      "metadata": {
        "id": "M50C-3kJioI2"
      },
      "execution_count": 27,
      "outputs": []
    },
    {
      "cell_type": "code",
      "source": [
        "# yha dekho hm serf aik fuctin ma he sar kam nh ekrhy ha blky  saraka sarakam hmyha krrhy ha uper wally code ma\n",
        "# or alg sa hm apna argument schema enforce kr rhy ha using a pydantic model\n",
        "\n",
        "# ya thora or mature tareeqa ha phly ka nisbat\n",
        "# most of the case ma decoarter wala he kam dy dy ga"
      ],
      "metadata": {
        "id": "4PkuJEW4ioF_"
      },
      "execution_count": null,
      "outputs": []
    },
    {
      "cell_type": "code",
      "source": [
        "result=multiply_tool.invoke({\"a\":5,\"b\":9})\n",
        "print(result)\n",
        "print(multiply_tool.name)\n",
        "print(multiply_tool.description)"
      ],
      "metadata": {
        "colab": {
          "base_uri": "https://localhost:8080/"
        },
        "id": "QjucUawzioD3",
        "outputId": "b98a8ea9-d4fc-4096-b571-9a64076f90ee"
      },
      "execution_count": 29,
      "outputs": [
        {
          "output_type": "stream",
          "name": "stdout",
          "text": [
            "45\n",
            "multiply\n",
            "multiply two numbr\n"
          ]
        }
      ]
    },
    {
      "cell_type": "code",
      "source": [
        "# differnce khuch bhe bahe ha yha hm"
      ],
      "metadata": {
        "id": "ijS8TTCTnBZa"
      },
      "execution_count": null,
      "outputs": []
    },
    {
      "cell_type": "markdown",
      "source": [
        "###Method 3 -Using Base Tool Class"
      ],
      "metadata": {
        "id": "HRUqKvQwnhWQ"
      }
    },
    {
      "cell_type": "code",
      "source": [
        "from langchain.tools import BaseTool\n",
        "from typing import Type"
      ],
      "metadata": {
        "id": "EYar55f-nqlH"
      },
      "execution_count": null,
      "outputs": []
    },
    {
      "cell_type": "code",
      "source": [
        "# arg schema using pydantic\n",
        "\n",
        "class MultiplyInput(BaseModel):\n",
        "    a: int = Field(required=True, description=\"The first number to add\")\n",
        "    b: int = Field(required=True, description=\"The second number to add\")"
      ],
      "metadata": {
        "id": "N_Zla3VBnqzH"
      },
      "execution_count": null,
      "outputs": []
    },
    {
      "cell_type": "code",
      "source": [
        "# khud ke ak class bnao jesy hm na bnae khas bat ya ha ka ya bas tool class aunhertiant ho rhe h a\n",
        "# ab as class ma hm khud ka attribute define kr kty ha apny khud ka function define kr skty ho\n",
        "\n",
        "class MultiplyTool(BaseTool):\n",
        "\n",
        "    name: str = \"multiply\"   # tool ka name\n",
        "    description: str = \"Multiply two numbers\"# tool krta kiaha\n",
        "\n",
        "    args_schema: Type[BaseModel] = MultiplyInput# argymwnr sxchem,a ly rhy ha or as schema ka type jo hm wo basemodel ha\n",
        "\n",
        "    def _run(self, a: int, b: int) -> int:   #as function kaname run hona must ha\n",
        "        return a * b"
      ],
      "metadata": {
        "id": "vyOXlJMTnqwB"
      },
      "execution_count": null,
      "outputs": []
    },
    {
      "cell_type": "code",
      "source": [
        "# hm yha async version of tool create kr skty ha bakyo ma hmy ya facility nhe milte"
      ],
      "metadata": {
        "id": "bYUteuYopUiS"
      },
      "execution_count": null,
      "outputs": []
    },
    {
      "cell_type": "code",
      "source": [
        "multiply_tool = MultiplyTool()"
      ],
      "metadata": {
        "id": "uorv1spFnqst"
      },
      "execution_count": null,
      "outputs": []
    },
    {
      "cell_type": "code",
      "source": [
        "result = multiply_tool.invoke({'a':3, 'b':3})\n",
        "\n",
        "print(result)\n",
        "print(multiply_tool.name)\n",
        "print(multiply_tool.description)\n",
        "\n",
        "print(multiply_tool.args)"
      ],
      "metadata": {
        "id": "87kyk5ymnqqF"
      },
      "execution_count": null,
      "outputs": []
    },
    {
      "cell_type": "markdown",
      "source": [
        "## Toolkit"
      ],
      "metadata": {
        "id": "qUyN1bZtoPEG"
      }
    },
    {
      "cell_type": "code",
      "source": [
        "from langchain_core.tools import tool\n",
        "\n",
        "# Custom tools\n",
        "@tool\n",
        "def add(a: int, b: int) -> int:\n",
        "    \"\"\"Add two numbers\"\"\"\n",
        "    return a + b\n",
        "\n",
        "@tool\n",
        "def multiply(a: int, b: int) -> int:\n",
        "    \"\"\"Multiply two numbers\"\"\"\n",
        "    return a * b\n"
      ],
      "metadata": {
        "id": "Y_zZIZeKoQMt"
      },
      "execution_count": null,
      "outputs": []
    },
    {
      "cell_type": "code",
      "source": [
        "class MathToolkit:\n",
        "    def get_tools(self):\n",
        "        return [add, multiplay]\n"
      ],
      "metadata": {
        "id": "stdgxKw7oQ6Y"
      },
      "execution_count": null,
      "outputs": []
    },
    {
      "cell_type": "code",
      "source": [
        "toolkit = MathToolkit()\n",
        "tools = toolkit.get_tools()\n",
        "\n",
        "for tool in tools:\n",
        "    print(tool.name, \"=>\", tool.description)\n"
      ],
      "metadata": {
        "id": "3YUWnCxloQ2q"
      },
      "execution_count": null,
      "outputs": []
    },
    {
      "cell_type": "code",
      "source": [],
      "metadata": {
        "id": "B6Pyxj87oQ0Z"
      },
      "execution_count": null,
      "outputs": []
    }
  ]
}