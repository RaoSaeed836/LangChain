{
  "nbformat": 4,
  "nbformat_minor": 0,
  "metadata": {
    "colab": {
      "provenance": [],
      "authorship_tag": "ABX9TyObZleK7ATMZIjA8Gk9q7XL",
      "include_colab_link": true
    },
    "kernelspec": {
      "name": "python3",
      "display_name": "Python 3"
    },
    "language_info": {
      "name": "python"
    }
  },
  "cells": [
    {
      "cell_type": "markdown",
      "metadata": {
        "id": "view-in-github",
        "colab_type": "text"
      },
      "source": [
        "<a href=\"https://colab.research.google.com/github/RaoSaeed836/LangChain/blob/main/Tool_Calling.ipynb\" target=\"_parent\"><img src=\"https://colab.research.google.com/assets/colab-badge.svg\" alt=\"Open In Colab\"/></a>"
      ]
    },
    {
      "cell_type": "code",
      "execution_count": 10,
      "metadata": {
        "id": "jfIsFxkJwMo1"
      },
      "outputs": [],
      "source": [
        "import os\n"
      ]
    },
    {
      "cell_type": "code",
      "source": [
        "!pip install -q langchain-openai langchain-core requests"
      ],
      "metadata": {
        "colab": {
          "base_uri": "https://localhost:8080/"
        },
        "id": "-BBEe_qdwb_p",
        "outputId": "26d0b03d-db0e-4b3e-a737-c195e2f2f9eb"
      },
      "execution_count": null,
      "outputs": [
        {
          "output_type": "stream",
          "name": "stdout",
          "text": [
            "\u001b[?25l   \u001b[90m━━━━━━━━━━━━━━━━━━━━━━━━━━━━━━━━━━━━━━━━\u001b[0m \u001b[32m0.0/70.6 kB\u001b[0m \u001b[31m?\u001b[0m eta \u001b[36m-:--:--\u001b[0m\r\u001b[2K   \u001b[90m━━━━━━━━━━━━━━━━━━━━━━━━━━━━━━━━━━━━━━━━\u001b[0m \u001b[32m70.6/70.6 kB\u001b[0m \u001b[31m3.2 MB/s\u001b[0m eta \u001b[36m0:00:00\u001b[0m\n",
            "\u001b[?25h"
          ]
        }
      ]
    },
    {
      "cell_type": "code",
      "source": [
        "from langchain_openai import ChatOpenAI\n",
        "from langchain_core.tools import tool\n",
        "from langchain_core.messages import HumanMessage\n",
        "import requests"
      ],
      "metadata": {
        "id": "kONqWQk_wmZM",
        "colab": {
          "base_uri": "https://localhost:8080/",
          "height": 367
        },
        "outputId": "330aa4fd-10cd-480b-9bc7-66fcb2b83b86"
      },
      "execution_count": 2,
      "outputs": [
        {
          "output_type": "error",
          "ename": "ModuleNotFoundError",
          "evalue": "No module named 'langchain_openai'",
          "traceback": [
            "\u001b[0;31m---------------------------------------------------------------------------\u001b[0m",
            "\u001b[0;31mModuleNotFoundError\u001b[0m                       Traceback (most recent call last)",
            "\u001b[0;32m/tmp/ipython-input-2-2197375128.py\u001b[0m in \u001b[0;36m<cell line: 0>\u001b[0;34m()\u001b[0m\n\u001b[0;32m----> 1\u001b[0;31m \u001b[0;32mfrom\u001b[0m \u001b[0mlangchain_openai\u001b[0m \u001b[0;32mimport\u001b[0m \u001b[0mChatOpenAI\u001b[0m\u001b[0;34m\u001b[0m\u001b[0;34m\u001b[0m\u001b[0m\n\u001b[0m\u001b[1;32m      2\u001b[0m \u001b[0;32mfrom\u001b[0m \u001b[0mlangchain_core\u001b[0m\u001b[0;34m.\u001b[0m\u001b[0mtools\u001b[0m \u001b[0;32mimport\u001b[0m \u001b[0mtool\u001b[0m\u001b[0;34m\u001b[0m\u001b[0;34m\u001b[0m\u001b[0m\n\u001b[1;32m      3\u001b[0m \u001b[0;32mfrom\u001b[0m \u001b[0mlangchain_core\u001b[0m\u001b[0;34m.\u001b[0m\u001b[0mmessages\u001b[0m \u001b[0;32mimport\u001b[0m \u001b[0mHumanMessage\u001b[0m\u001b[0;34m\u001b[0m\u001b[0;34m\u001b[0m\u001b[0m\n\u001b[1;32m      4\u001b[0m \u001b[0;32mimport\u001b[0m \u001b[0mrequests\u001b[0m\u001b[0;34m\u001b[0m\u001b[0;34m\u001b[0m\u001b[0m\n",
            "\u001b[0;31mModuleNotFoundError\u001b[0m: No module named 'langchain_openai'",
            "",
            "\u001b[0;31m---------------------------------------------------------------------------\u001b[0;32m\nNOTE: If your import is failing due to a missing package, you can\nmanually install dependencies using either !pip or !apt.\n\nTo view examples of installing some common dependencies, click the\n\"Open Examples\" button below.\n\u001b[0;31m---------------------------------------------------------------------------\u001b[0m\n"
          ],
          "errorDetails": {
            "actions": [
              {
                "action": "open_url",
                "actionText": "Open Examples",
                "url": "/notebooks/snippets/importing_libraries.ipynb"
              }
            ]
          }
        }
      ]
    },
    {
      "cell_type": "code",
      "source": [
        "# tool create\n",
        "@tool\n",
        "def multiply(a:int,b:int )->int:\n",
        "  \"\"\"\n",
        "  Given 2 number a and b this tool return their product\n",
        "  \"\"\"\n",
        "  return a*b"
      ],
      "metadata": {
        "id": "HP3JATizxF7k"
      },
      "execution_count": null,
      "outputs": []
    },
    {
      "cell_type": "code",
      "source": [
        "print(multiply.invoke({'a':3,'b':9}))"
      ],
      "metadata": {
        "colab": {
          "base_uri": "https://localhost:8080/"
        },
        "id": "OIogBEmExF5V",
        "outputId": "58fb1fd2-cbc4-48be-d64a-2b5c3a962b69"
      },
      "execution_count": null,
      "outputs": [
        {
          "output_type": "stream",
          "name": "stdout",
          "text": [
            "27\n"
          ]
        }
      ]
    },
    {
      "cell_type": "code",
      "source": [
        "multiply.name"
      ],
      "metadata": {
        "colab": {
          "base_uri": "https://localhost:8080/",
          "height": 35
        },
        "id": "6yGDMRIsxFxw",
        "outputId": "f2cc5e2b-0ad3-4663-99f4-590c3840149b"
      },
      "execution_count": null,
      "outputs": [
        {
          "output_type": "execute_result",
          "data": {
            "text/plain": [
              "'multiply'"
            ],
            "application/vnd.google.colaboratory.intrinsic+json": {
              "type": "string"
            }
          },
          "metadata": {},
          "execution_count": 9
        }
      ]
    },
    {
      "cell_type": "code",
      "source": [
        "multiply.description"
      ],
      "metadata": {
        "colab": {
          "base_uri": "https://localhost:8080/",
          "height": 35
        },
        "id": "btixjTjNxFvQ",
        "outputId": "60240656-704a-4f08-b577-aa109c7c8d6e"
      },
      "execution_count": null,
      "outputs": [
        {
          "output_type": "execute_result",
          "data": {
            "text/plain": [
              "'Given 2 number a and b this tool return their product'"
            ],
            "application/vnd.google.colaboratory.intrinsic+json": {
              "type": "string"
            }
          },
          "metadata": {},
          "execution_count": 10
        }
      ]
    },
    {
      "cell_type": "code",
      "source": [
        "multiply.args\n",
        "# schema mil jay ga yane ka ya tool kes input format ma chez expect kr rha ha"
      ],
      "metadata": {
        "colab": {
          "base_uri": "https://localhost:8080/"
        },
        "id": "sfVvNm3FyAkg",
        "outputId": "b1d9a543-83ce-4bd6-e718-7cd4b84d82d1"
      },
      "execution_count": null,
      "outputs": [
        {
          "output_type": "execute_result",
          "data": {
            "text/plain": [
              "{'a': {'title': 'A', 'type': 'integer'},\n",
              " 'b': {'title': 'B', 'type': 'integer'}}"
            ]
          },
          "metadata": {},
          "execution_count": 11
        }
      ]
    },
    {
      "cell_type": "code",
      "source": [
        "# tool binding\n",
        "\n",
        "\n",
        "\n",
        "# apko as k aly aik llm chay\n",
        "llm=ChatOpenAI()\n"
      ],
      "metadata": {
        "id": "hlDoDuqnyDvz"
      },
      "execution_count": null,
      "outputs": []
    },
    {
      "cell_type": "code",
      "source": [
        "# ab ap as function ma kitny bhe tool aik list ma dy kr bind kr skty ho\n",
        "llm_with_tools=llm.bind_tools([multiply])  # this is the tool binding"
      ],
      "metadata": {
        "id": "L8FNnKUcyiiQ"
      },
      "execution_count": null,
      "outputs": []
    },
    {
      "cell_type": "code",
      "source": [
        "# ab ya llm_with_tool jo ha ya to ha to ya aik llm he but as k a pas aik tool bhe ha multiply walla\n",
        "# ab ya hoga future ma jb bhe lgy ga asy mutiplication krna ha to ya llm ya krskta ha ka us multiply waly tool ko call krskta ha"
      ],
      "metadata": {
        "id": "gNdrXw11y2c-"
      },
      "execution_count": null,
      "outputs": []
    },
    {
      "cell_type": "code",
      "source": [
        "# vvvvv impo\n",
        "# hr llm ka oas ya capibiity nhe hote ka ap usky sath aik tool ko bind kr pao"
      ],
      "metadata": {
        "id": "Nxg8y9BwzlUV"
      },
      "execution_count": null,
      "outputs": []
    },
    {
      "cell_type": "code",
      "source": [
        "# tool calling\n",
        "\n",
        "\n",
        "llm_with_tools.invoke(\"hy how are you\")"
      ],
      "metadata": {
        "colab": {
          "base_uri": "https://localhost:8080/"
        },
        "id": "t0D0eZnx0zD4",
        "outputId": "d79adef3-98ea-4438-ff3b-0dc4c3318d42"
      },
      "execution_count": null,
      "outputs": [
        {
          "output_type": "execute_result",
          "data": {
            "text/plain": [
              "AIMessage(content=\"Hello! I'm here and ready to assist you. How can I help you today?\", additional_kwargs={'refusal': None}, response_metadata={'token_usage': {'completion_tokens': 19, 'prompt_tokens': 58, 'total_tokens': 77, 'completion_tokens_details': {'accepted_prediction_tokens': 0, 'audio_tokens': 0, 'reasoning_tokens': 0, 'rejected_prediction_tokens': 0}, 'prompt_tokens_details': {'audio_tokens': 0, 'cached_tokens': 0}}, 'model_name': 'gpt-3.5-turbo-0125', 'system_fingerprint': None, 'id': 'chatcmpl-Byy79aneobDVSNsi7vzLVJIrtQZOh', 'service_tier': 'default', 'finish_reason': 'stop', 'logprobs': None}, id='run--c07646c3-5024-46d9-b6d6-c186840d4e42-0', usage_metadata={'input_tokens': 58, 'output_tokens': 19, 'total_tokens': 77, 'input_token_details': {'audio': 0, 'cache_read': 0}, 'output_token_details': {'audio': 0, 'reasoning': 0}})"
            ]
          },
          "metadata": {},
          "execution_count": 15
        }
      ]
    },
    {
      "cell_type": "code",
      "source": [
        "llm_with_tools.invoke(\"can you multiply 4 with 6\")"
      ],
      "metadata": {
        "colab": {
          "base_uri": "https://localhost:8080/"
        },
        "id": "6v8KpBAR02Uu",
        "outputId": "81fcfe15-2367-48d2-ad15-7f2ab3ebe4ee"
      },
      "execution_count": null,
      "outputs": [
        {
          "output_type": "execute_result",
          "data": {
            "text/plain": [
              "AIMessage(content='', additional_kwargs={'tool_calls': [{'id': 'call_QWHZnJu0PbmVZ4LmSwG75cK1', 'function': {'arguments': '{\"a\":4,\"b\":6}', 'name': 'multiply'}, 'type': 'function'}], 'refusal': None}, response_metadata={'token_usage': {'completion_tokens': 17, 'prompt_tokens': 62, 'total_tokens': 79, 'completion_tokens_details': {'accepted_prediction_tokens': 0, 'audio_tokens': 0, 'reasoning_tokens': 0, 'rejected_prediction_tokens': 0}, 'prompt_tokens_details': {'audio_tokens': 0, 'cached_tokens': 0}}, 'model_name': 'gpt-3.5-turbo-0125', 'system_fingerprint': None, 'id': 'chatcmpl-Byy8DruP5BqfRTeLNRB5hMbKDEiKi', 'service_tier': 'default', 'finish_reason': 'tool_calls', 'logprobs': None}, id='run--60b1f586-a9d6-4f9f-aac4-473bcb757d9e-0', tool_calls=[{'name': 'multiply', 'args': {'a': 4, 'b': 6}, 'id': 'call_QWHZnJu0PbmVZ4LmSwG75cK1', 'type': 'tool_call'}], usage_metadata={'input_tokens': 62, 'output_tokens': 17, 'total_tokens': 79, 'input_token_details': {'audio': 0, 'cache_read': 0}, 'output_token_details': {'audio': 0, 'reasoning': 0}})"
            ]
          },
          "metadata": {},
          "execution_count": 16
        }
      ]
    },
    {
      "cell_type": "code",
      "source": [
        "# tool call ko fetch krlya ha\n",
        "llm_with_tools.invoke(\"can you multiply 4 with 6\").tool_calls"
      ],
      "metadata": {
        "colab": {
          "base_uri": "https://localhost:8080/"
        },
        "id": "dlzZ4DMd1RIY",
        "outputId": "f6ab67a3-3190-43ba-8f3e-5c609a30ccfb"
      },
      "execution_count": null,
      "outputs": [
        {
          "output_type": "execute_result",
          "data": {
            "text/plain": [
              "[{'name': 'multiply',\n",
              "  'args': {'a': 4, 'b': 6},\n",
              "  'id': 'call_2gfgPXKUqrkwgAn0Xn8PFANK',\n",
              "  'type': 'tool_call'}]"
            ]
          },
          "metadata": {},
          "execution_count": 17
        }
      ]
    },
    {
      "cell_type": "code",
      "source": [
        "# [{'name': 'multiply',\n",
        "#   'args': {'a': 4, 'b': 6},\n",
        "#   'id': 'call_2gfgPXKUqrkwgAn0Xn8PFANK',\n",
        "#   'type': 'tool_call'}]\n",
        "# aik tool h aya serf laken aik sa zayda bhe ho skty hm list ma aik sa zaida\n",
        "# @ tool dal sktyh ayha serf aik he h a"
      ],
      "metadata": {
        "id": "-rHiXOq11REm"
      },
      "execution_count": null,
      "outputs": []
    },
    {
      "cell_type": "code",
      "source": [
        "\n",
        "llm_with_tools.invoke(\"can you multiply 4 with 6\").tool_calls"
      ],
      "metadata": {
        "colab": {
          "base_uri": "https://localhost:8080/",
          "height": 141
        },
        "id": "ExxGHYyS1RCq",
        "outputId": "6284667a-7314-4d51-8c6f-878130e0102c"
      },
      "execution_count": 39,
      "outputs": [
        {
          "output_type": "error",
          "ename": "NameError",
          "evalue": "name 'llm_with_tools' is not defined",
          "traceback": [
            "\u001b[0;31m---------------------------------------------------------------------------\u001b[0m",
            "\u001b[0;31mNameError\u001b[0m                                 Traceback (most recent call last)",
            "\u001b[0;32m/tmp/ipython-input-39-1489289336.py\u001b[0m in \u001b[0;36m<cell line: 0>\u001b[0;34m()\u001b[0m\n\u001b[0;32m----> 1\u001b[0;31m \u001b[0mllm_with_tools\u001b[0m\u001b[0;34m.\u001b[0m\u001b[0minvoke\u001b[0m\u001b[0;34m(\u001b[0m\u001b[0;34m\"can you multiply 4 with 6\"\u001b[0m\u001b[0;34m)\u001b[0m\u001b[0;34m.\u001b[0m\u001b[0mtool_calls\u001b[0m\u001b[0;34m\u001b[0m\u001b[0;34m\u001b[0m\u001b[0m\n\u001b[0m",
            "\u001b[0;31mNameError\u001b[0m: name 'llm_with_tools' is not defined"
          ]
        }
      ]
    },
    {
      "cell_type": "code",
      "source": [
        "# 'name': 'multiply',\n",
        "#  'args': {'a': 4, 'b': 6},\n",
        "#yha apko aik dount arha hoga ka hmna to dekha tha ka tool cal ka mtlb ha llm plut kr as tool ko call kry ga mtlb tool ko invoke kry ga or answer lay ka multiply kr ka\n",
        "\n",
        "#but assa nahe ha ya aik chez likhae hoe ha notes ma THE LLM DOES NOT ACCTUALLY RUN TH ETOOL IT JUST SUGGEST THE TOOL AND THE INPUT ARGUMENTS.THE ACTUAL EXECUTION IS HANDLED BY LANGCHAIN OR YOU\n",
        "\n",
        "#mtlb kbhe bh elmm ap ka behaf pr tool ko call nhe krta ya serf apko suggest krta ha dekho bahi  mujhy ;gta ha as query ko solve krny ka ly ya tool \"'multiply'\" help ful hoga or ap as tool ko ya input bhij do \"{'a': 4, 'b': 6\"} apko apka answer mil jay ga\n",
        "#khud llm as tool ko call nhe kry ga khud sa input nhe bhijy ga khud sa result nhe lay ga\n",
        "#or ya logical bhe ha agee llm ap ka behaf pr tool ko call krny lg jay to or aske execute krny lg jay to this can be very risky\n",
        "#because llm ka uper apbht zaida trust nhe kr ksty hoskta ha wo asy kwse tool ko call krdy jo aik dm he glt ho or apko glt result la kr dy dy\n",
        "# to ya control ap apny pas rkhna chao gy\n",
        "# ap bs llm sa advise man rhy ho ka as query ka bases pr mujhy btao ka konsa tool sahe hoga answer nikalny ka ly or sath he mujhy input bta do ya ka\n",
        "\n",
        "\n",
        "\n",
        "# tool ka executin llm nh ekrty"
      ],
      "metadata": {
        "id": "gSAPOTGy1Q_t"
      },
      "execution_count": null,
      "outputs": []
    },
    {
      "cell_type": "code",
      "source": [
        "#llm serf pko advise krta ha kak as given query ka ly ya tool sahe rhy ga with\n",
        "# these input paramter\"\" {'a': 4, 'b': 6}\""
      ],
      "metadata": {
        "id": "-XXoPE1F1Q8r"
      },
      "execution_count": null,
      "outputs": []
    },
    {
      "cell_type": "code",
      "source": [
        "result=llm_with_tools.invoke(\"can you multiply 4 with 6\")"
      ],
      "metadata": {
        "id": "9WSqVxsn1Q5i"
      },
      "execution_count": null,
      "outputs": []
    },
    {
      "cell_type": "code",
      "source": [
        "result.tool_calls[0]['args']"
      ],
      "metadata": {
        "colab": {
          "base_uri": "https://localhost:8080/"
        },
        "id": "oK7KPmG157S3",
        "outputId": "4019c2f5-4aa7-4b10-b3b2-23a6dbf009cf"
      },
      "execution_count": null,
      "outputs": [
        {
          "output_type": "execute_result",
          "data": {
            "text/plain": [
              "{'a': 4, 'b': 6}"
            ]
          },
          "metadata": {},
          "execution_count": 22
        }
      ]
    },
    {
      "cell_type": "code",
      "source": [
        "#{'a': 4, 'b': 6} ya exactly wo input ha jpoo mujhy apny tool ma bhijne ha execution ka doran\n",
        "multiply.invoke(result.tool_calls[0]['args'])"
      ],
      "metadata": {
        "colab": {
          "base_uri": "https://localhost:8080/"
        },
        "id": "PxE06j191Q3i",
        "outputId": "908ef072-7b57-49e4-c500-2d3efba57099"
      },
      "execution_count": null,
      "outputs": [
        {
          "output_type": "execute_result",
          "data": {
            "text/plain": [
              "24"
            ]
          },
          "metadata": {},
          "execution_count": 23
        }
      ]
    },
    {
      "cell_type": "code",
      "source": [
        "#ager hm inout bijo gy to serf result mily ga ager ap pora ka pora tool call bhijo gy jo ya ha \"{'name': 'multiply',\n",
        "#  'args': {'a': 4, 'b': 6},\n",
        "#  'id': 'call_0AM9osTjZsAaDAzb3pTYJACZ',\n",
        "#  'type': 'tool_call'}\"\n",
        "multiply.invoke({'name': 'multiply',\n",
        " 'args': {'a': 4, 'b': 6},\n",
        " 'id': 'call_0AM9osTjZsAaDAzb3pTYJACZ',\n",
        " 'type': 'tool_call'})"
      ],
      "metadata": {
        "colab": {
          "base_uri": "https://localhost:8080/"
        },
        "id": "zBjh27TH6QbQ",
        "outputId": "24cf3302-e48e-4442-b152-5d623a38e06f"
      },
      "execution_count": null,
      "outputs": [
        {
          "output_type": "execute_result",
          "data": {
            "text/plain": [
              "ToolMessage(content='24', name='multiply', tool_call_id='call_0AM9osTjZsAaDAzb3pTYJACZ')"
            ]
          },
          "metadata": {},
          "execution_count": 24
        }
      ]
    },
    {
      "cell_type": "code",
      "source": [
        "# tool mesage is the message jo apko tb milta ha jb ap aik tool ko execute krty ho with the help of tool call\n",
        "# as tool ke khas bat ya ha ka ap as ko llm ka pas bhij skty ho wapis orr llm ko bta skty ho dekho bahi jb ma na tool execute kia to mery tool na mujhy ya result dya\n",
        "#ab ya dekh lr message llm apna reply generate kry ga\n",
        "# to hm rather then sending argument hm entire tool call send krdy gy\n",
        "#multiply.invoke(result.tool_calls[0])"
      ],
      "metadata": {
        "id": "HKsc2PgN6RK8"
      },
      "execution_count": null,
      "outputs": []
    },
    {
      "cell_type": "code",
      "source": [
        "# tool execution\n",
        "multiply.invoke(result.tool_calls[0])"
      ],
      "metadata": {
        "colab": {
          "base_uri": "https://localhost:8080/"
        },
        "id": "uizS2SNX6RHl",
        "outputId": "7e904472-d729-404b-b160-b8827aface8f"
      },
      "execution_count": null,
      "outputs": [
        {
          "output_type": "execute_result",
          "data": {
            "text/plain": [
              "ToolMessage(content='24', name='multiply', tool_call_id='call_AZV06TbOP4L415vtaOupAP63')"
            ]
          },
          "metadata": {},
          "execution_count": 25
        }
      ]
    },
    {
      "cell_type": "code",
      "source": [
        "# ab aik chez rh gay as pory process ko wapis llm ka pas bhijna h a\n",
        "# jes sa llm ko smjh ay ky ay last ma final answer kia dena ha"
      ],
      "metadata": {
        "id": "g266Y-cz6RFR"
      },
      "execution_count": null,
      "outputs": []
    },
    {
      "cell_type": "code",
      "source": [],
      "metadata": {
        "id": "kQdWRnZk6RCc"
      },
      "execution_count": null,
      "outputs": []
    },
    {
      "cell_type": "code",
      "source": [
        "query=HumanMessage('can you multiply 3 with 5')#--> ma na directly query ko bhijny ka phly asy human mesage ma convert kia"
      ],
      "metadata": {
        "id": "mgdmHn0w6RAS"
      },
      "execution_count": null,
      "outputs": []
    },
    {
      "cell_type": "code",
      "source": [
        "messages=[query]"
      ],
      "metadata": {
        "id": "XH5Vmic_82KX"
      },
      "execution_count": null,
      "outputs": []
    },
    {
      "cell_type": "code",
      "source": [
        "messages"
      ],
      "metadata": {
        "colab": {
          "base_uri": "https://localhost:8080/"
        },
        "id": "hSFW9b3R82Hd",
        "outputId": "7cdae664-3448-4136-da8a-6769d164f1ec"
      },
      "execution_count": null,
      "outputs": [
        {
          "output_type": "execute_result",
          "data": {
            "text/plain": [
              "[HumanMessage(content='can you multiply 3 with 5', additional_kwargs={}, response_metadata={})]"
            ]
          },
          "metadata": {},
          "execution_count": 28
        }
      ]
    },
    {
      "cell_type": "code",
      "source": [],
      "metadata": {
        "id": "bCRf1Ajr82FR"
      },
      "execution_count": null,
      "outputs": []
    },
    {
      "cell_type": "code",
      "source": [],
      "metadata": {
        "id": "ZmcrBzS-82Bd"
      },
      "execution_count": null,
      "outputs": []
    },
    {
      "cell_type": "code",
      "source": [
        "#tool create\n",
        "@tool\n",
        "def add(a:int,b:int)->int:\n",
        "  \"\"\"i will give you two number you will add them \"\"\"\n",
        "  return a+b\n",
        "\n",
        "@tool\n",
        "def sub(a:int,b:int)->int:\n",
        "  \"\"\"i will give you two number you will subtract them \"\"\"\n",
        "  return a+b\n",
        "\n",
        "@tool\n",
        "def mul(a:int,b:int)->int:\n",
        "  \"\"\"i will give you two number you will miltiply them \"\"\"\n",
        "  return a+b"
      ],
      "metadata": {
        "id": "H7DSKV1_819X"
      },
      "execution_count": 47,
      "outputs": []
    },
    {
      "cell_type": "code",
      "source": [
        "#toolbinding\n",
        "llm=ChatOpenAI()\n",
        "llm_bind=llm.bind_tools([add,sub,mul])"
      ],
      "metadata": {
        "id": "oc6sDdGAfmSU"
      },
      "execution_count": 49,
      "outputs": []
    },
    {
      "cell_type": "code",
      "source": [
        "query=HumanMessage(\"can you add 5 and 9\")"
      ],
      "metadata": {
        "id": "gUeq3pN2xYxL"
      },
      "execution_count": 79,
      "outputs": []
    },
    {
      "cell_type": "code",
      "source": [
        "message=[query]"
      ],
      "metadata": {
        "id": "fWM5Akrv0iu0"
      },
      "execution_count": 80,
      "outputs": []
    },
    {
      "cell_type": "code",
      "source": [
        "message"
      ],
      "metadata": {
        "colab": {
          "base_uri": "https://localhost:8080/"
        },
        "id": "LAJjWSyR0irn",
        "outputId": "84f83162-0b4d-46cd-e03a-29dba3e5efd4"
      },
      "execution_count": 81,
      "outputs": [
        {
          "output_type": "execute_result",
          "data": {
            "text/plain": [
              "[HumanMessage(content='can you add 5 and 9', additional_kwargs={}, response_metadata={})]"
            ]
          },
          "metadata": {},
          "execution_count": 81
        }
      ]
    },
    {
      "cell_type": "code",
      "source": [
        "message.append(llm_bind)"
      ],
      "metadata": {
        "id": "YeeYyNM40ior"
      },
      "execution_count": 84,
      "outputs": []
    },
    {
      "cell_type": "code",
      "source": [
        "message"
      ],
      "metadata": {
        "colab": {
          "base_uri": "https://localhost:8080/"
        },
        "id": "gP9QVxwn1DjJ",
        "outputId": "1156833e-8e7d-4d35-fa5e-929597539173"
      },
      "execution_count": 85,
      "outputs": [
        {
          "output_type": "execute_result",
          "data": {
            "text/plain": [
              "[HumanMessage(content='can you add 5 and 9', additional_kwargs={}, response_metadata={}),\n",
              " RunnableBinding(bound=ChatOpenAI(client=<openai.resources.chat.completions.completions.Completions object at 0x78b94a416090>, async_client=<openai.resources.chat.completions.completions.AsyncCompletions object at 0x78b94a347f10>, root_client=<openai.OpenAI object at 0x78b94a415390>, root_async_client=<openai.AsyncOpenAI object at 0x78b94a34f090>, model_kwargs={}, openai_api_key=SecretStr('**********')), kwargs={'tools': [{'type': 'function', 'function': {'name': 'add', 'description': 'i will give you two number you will add them', 'parameters': {'properties': {'a': {'type': 'integer'}, 'b': {'type': 'integer'}}, 'required': ['a', 'b'], 'type': 'object'}}}, {'type': 'function', 'function': {'name': 'sub', 'description': 'i will give you two number you will subtract them', 'parameters': {'properties': {'a': {'type': 'integer'}, 'b': {'type': 'integer'}}, 'required': ['a', 'b'], 'type': 'object'}}}, {'type': 'function', 'function': {'name': 'mul', 'description': 'i will give you two number you will miltiply them', 'parameters': {'properties': {'a': {'type': 'integer'}, 'b': {'type': 'integer'}}, 'required': ['a', 'b'], 'type': 'object'}}}]}, config={}, config_factories=[])]"
            ]
          },
          "metadata": {},
          "execution_count": 85
        }
      ]
    },
    {
      "cell_type": "code",
      "source": [
        "#tool calling\n",
        "llm_bind.invoke('what is the capital of pakistan')"
      ],
      "metadata": {
        "colab": {
          "base_uri": "https://localhost:8080/"
        },
        "id": "zaacvScXorpS",
        "outputId": "80078d44-ab41-4a71-e1fd-6fb121a90b5c"
      },
      "execution_count": 55,
      "outputs": [
        {
          "output_type": "execute_result",
          "data": {
            "text/plain": [
              "AIMessage(content='The capital of Pakistan is Islamabad.', additional_kwargs={'refusal': None}, response_metadata={'token_usage': {'completion_tokens': 8, 'prompt_tokens': 119, 'total_tokens': 127, 'completion_tokens_details': {'accepted_prediction_tokens': 0, 'audio_tokens': 0, 'reasoning_tokens': 0, 'rejected_prediction_tokens': 0}, 'prompt_tokens_details': {'audio_tokens': 0, 'cached_tokens': 0}}, 'model_name': 'gpt-3.5-turbo-0125', 'system_fingerprint': None, 'id': 'chatcmpl-Bz2FJX1IoJXe8K0q3kqah7IzDbdnD', 'service_tier': 'default', 'finish_reason': 'stop', 'logprobs': None}, id='run--fd33879f-cb5c-41f6-8afe-ec3b5b536b96-0', usage_metadata={'input_tokens': 119, 'output_tokens': 8, 'total_tokens': 127, 'input_token_details': {'audio': 0, 'cache_read': 0}, 'output_token_details': {'audio': 0, 'reasoning': 0}})"
            ]
          },
          "metadata": {},
          "execution_count": 55
        }
      ]
    },
    {
      "cell_type": "code",
      "source": [
        "llm_bind.invoke('7 and 9')"
      ],
      "metadata": {
        "colab": {
          "base_uri": "https://localhost:8080/"
        },
        "id": "-F5NpSjkorlT",
        "outputId": "b39e36a7-a128-4c67-cdf6-e45df4035aa1"
      },
      "execution_count": 56,
      "outputs": [
        {
          "output_type": "execute_result",
          "data": {
            "text/plain": [
              "AIMessage(content='', additional_kwargs={'tool_calls': [{'id': 'call_wzIqZi5VzFOhsxkEHvJKJycf', 'function': {'arguments': '{\"a\": 7, \"b\": 9}', 'name': 'add'}, 'type': 'function'}, {'id': 'call_40scGcdleh3pzq3y7Hh5DPnn', 'function': {'arguments': '{\"a\": 7, \"b\": 9}', 'name': 'sub'}, 'type': 'function'}, {'id': 'call_ErefCiU9tmcKCHQucGFMYkOx', 'function': {'arguments': '{\"a\": 7, \"b\": 9}', 'name': 'mul'}, 'type': 'function'}], 'refusal': None}, response_metadata={'token_usage': {'completion_tokens': 66, 'prompt_tokens': 117, 'total_tokens': 183, 'completion_tokens_details': {'accepted_prediction_tokens': 0, 'audio_tokens': 0, 'reasoning_tokens': 0, 'rejected_prediction_tokens': 0}, 'prompt_tokens_details': {'audio_tokens': 0, 'cached_tokens': 0}}, 'model_name': 'gpt-3.5-turbo-0125', 'system_fingerprint': None, 'id': 'chatcmpl-Bz2FgybJ3ysVjks25X53la7qRzsju', 'service_tier': 'default', 'finish_reason': 'tool_calls', 'logprobs': None}, id='run--08c83137-4b4b-44ef-a822-8b028a0029a4-0', tool_calls=[{'name': 'add', 'args': {'a': 7, 'b': 9}, 'id': 'call_wzIqZi5VzFOhsxkEHvJKJycf', 'type': 'tool_call'}, {'name': 'sub', 'args': {'a': 7, 'b': 9}, 'id': 'call_40scGcdleh3pzq3y7Hh5DPnn', 'type': 'tool_call'}, {'name': 'mul', 'args': {'a': 7, 'b': 9}, 'id': 'call_ErefCiU9tmcKCHQucGFMYkOx', 'type': 'tool_call'}], usage_metadata={'input_tokens': 117, 'output_tokens': 66, 'total_tokens': 183, 'input_token_details': {'audio': 0, 'cache_read': 0}, 'output_token_details': {'audio': 0, 'reasoning': 0}})"
            ]
          },
          "metadata": {},
          "execution_count": 56
        }
      ]
    },
    {
      "cell_type": "code",
      "source": [
        "llm_bind.invoke('7 and 9').tool_calls"
      ],
      "metadata": {
        "colab": {
          "base_uri": "https://localhost:8080/"
        },
        "id": "r1ciIRNuorhW",
        "outputId": "9ef6c86f-6f1b-4438-ef75-8352d28f83b5"
      },
      "execution_count": 57,
      "outputs": [
        {
          "output_type": "execute_result",
          "data": {
            "text/plain": [
              "[{'name': 'add',\n",
              "  'args': {'a': 7, 'b': 9},\n",
              "  'id': 'call_2U5tZgwd1GNHZJMTv1ZHoJMv',\n",
              "  'type': 'tool_call'},\n",
              " {'name': 'sub',\n",
              "  'args': {'a': 7, 'b': 9},\n",
              "  'id': 'call_51mU7iUAmygOIPdvne67Dvvq',\n",
              "  'type': 'tool_call'},\n",
              " {'name': 'mul',\n",
              "  'args': {'a': 7, 'b': 9},\n",
              "  'id': 'call_CZyEqWssiKNvRNhTWNlQmjA0',\n",
              "  'type': 'tool_call'}]"
            ]
          },
          "metadata": {},
          "execution_count": 57
        }
      ]
    },
    {
      "cell_type": "code",
      "source": [
        "llm_bind.invoke('7 and 9').tool_calls[0]"
      ],
      "metadata": {
        "colab": {
          "base_uri": "https://localhost:8080/"
        },
        "id": "KB2yuA9borej",
        "outputId": "2ab0718b-c6b6-4bf5-963e-6ec0c1c25e73"
      },
      "execution_count": 58,
      "outputs": [
        {
          "output_type": "execute_result",
          "data": {
            "text/plain": [
              "{'name': 'add',\n",
              " 'args': {'a': 7, 'b': 9},\n",
              " 'id': 'call_p5rkEjdRGue5PUofG5adM2eU',\n",
              " 'type': 'tool_call'}"
            ]
          },
          "metadata": {},
          "execution_count": 58
        }
      ]
    },
    {
      "cell_type": "code",
      "source": [
        "result2=llm_bind.invoke('7 and 9').tool_calls"
      ],
      "metadata": {
        "id": "BsNtzs7Sylkd"
      },
      "execution_count": 64,
      "outputs": []
    },
    {
      "cell_type": "code",
      "source": [
        "result2[0]['args']"
      ],
      "metadata": {
        "colab": {
          "base_uri": "https://localhost:8080/"
        },
        "id": "ikz2hOnfylhs",
        "outputId": "cc745328-68d6-448d-e364-c25154140379"
      },
      "execution_count": 71,
      "outputs": [
        {
          "output_type": "execute_result",
          "data": {
            "text/plain": [
              "{'a': 7, 'b': 9}"
            ]
          },
          "metadata": {},
          "execution_count": 71
        }
      ]
    },
    {
      "cell_type": "code",
      "source": [],
      "metadata": {
        "colab": {
          "base_uri": "https://localhost:8080/"
        },
        "id": "PM4LksDrylfK",
        "outputId": "7873df0a-3374-45e3-bef4-8a776241a9ab"
      },
      "execution_count": 83,
      "outputs": [
        {
          "output_type": "execute_result",
          "data": {
            "text/plain": [
              "[{'name': 'add',\n",
              "  'args': {'a': 7, 'b': 9},\n",
              "  'id': 'call_KEfXvjrG9CnooZjqvpfY68W4',\n",
              "  'type': 'tool_call'},\n",
              " {'name': 'sub',\n",
              "  'args': {'a': 7, 'b': 9},\n",
              "  'id': 'call_JtMJzAmW0QsA4HLgriYl8bKZ',\n",
              "  'type': 'tool_call'},\n",
              " {'name': 'mul',\n",
              "  'args': {'a': 7, 'b': 9},\n",
              "  'id': 'call_ewCnmKNAQJGm3XBU3QQ3PlQX',\n",
              "  'type': 'tool_call'}]"
            ]
          },
          "metadata": {},
          "execution_count": 83
        }
      ]
    },
    {
      "cell_type": "code",
      "source": [],
      "metadata": {
        "id": "nHu6hPACylcm"
      },
      "execution_count": null,
      "outputs": []
    },
    {
      "cell_type": "code",
      "source": [
        "# # tool execute\n",
        "\n",
        "\n",
        "# {'name': 'add',\n",
        "#  'args': {'a': 7, 'b': 9},\n",
        "#  'id': 'call_p5rkEjdRGue5PUofG5adM2eU',\n",
        "#  'type': 'tool_call'}\n",
        "\n",
        "# ab hm as dict ko ly kr tool ko execute krygy"
      ],
      "metadata": {
        "id": "tevxxxRforb7"
      },
      "execution_count": null,
      "outputs": []
    },
    {
      "cell_type": "code",
      "source": [
        "#mujhy pta ha mery tool kaname ya ha or executr krny ka ly envoke functoin\n",
        "add.invoke(result2[0]['args'])"
      ],
      "metadata": {
        "colab": {
          "base_uri": "https://localhost:8080/"
        },
        "id": "FibuIzj1xzal",
        "outputId": "cb0b6a1d-19b7-4d54-8aba-cd0cde5f3c53"
      },
      "execution_count": 72,
      "outputs": [
        {
          "output_type": "execute_result",
          "data": {
            "text/plain": [
              "16"
            ]
          },
          "metadata": {},
          "execution_count": 72
        }
      ]
    },
    {
      "cell_type": "code",
      "source": [
        "# ager hm pora tool cal bhijy abhe to uper hmna serf args ko bhija ha"
      ],
      "metadata": {
        "id": "1tq7UzKLxzX-"
      },
      "execution_count": null,
      "outputs": []
    },
    {
      "cell_type": "code",
      "source": [
        "{'name': 'add',\n",
        " 'args': {'a': 7, 'b': 9},\n",
        " 'id': 'call_p5rkEjdRGue5PUofG5adM2eU',\n",
        " 'type': 'tool_call'}"
      ],
      "metadata": {
        "id": "OVwcnQmxxzVZ"
      },
      "execution_count": null,
      "outputs": []
    },
    {
      "cell_type": "code",
      "source": [
        "add.invoke({'name': 'add',\n",
        " 'args': {'a': 7, 'b': 9},\n",
        " 'id': 'call_p5rkEjdRGue5PUofG5adM2eU',\n",
        " 'type': 'tool_call'})"
      ],
      "metadata": {
        "colab": {
          "base_uri": "https://localhost:8080/"
        },
        "id": "lJNn-V0GxzS1",
        "outputId": "152820ae-33a2-410c-bd0b-b422b2341259"
      },
      "execution_count": 73,
      "outputs": [
        {
          "output_type": "execute_result",
          "data": {
            "text/plain": [
              "ToolMessage(content='16', name='add', tool_call_id='call_p5rkEjdRGue5PUofG5adM2eU')"
            ]
          },
          "metadata": {},
          "execution_count": 73
        }
      ]
    },
    {
      "cell_type": "code",
      "source": [
        "tool_result=add.invoke(result2[2])"
      ],
      "metadata": {
        "id": "tSOLRpKbxzQQ"
      },
      "execution_count": 86,
      "outputs": []
    },
    {
      "cell_type": "code",
      "source": [
        "# ab as asre chex ko wapis hmm llm ko bhijy gy ta ka usay smjh ay ka  usy final kia output dena h a"
      ],
      "metadata": {
        "id": "URq-ytewxzNH"
      },
      "execution_count": null,
      "outputs": []
    },
    {
      "cell_type": "code",
      "source": [
        "message.append(tool_result)"
      ],
      "metadata": {
        "id": "AD9oa4AK0VNQ"
      },
      "execution_count": 87,
      "outputs": []
    },
    {
      "cell_type": "code",
      "source": [
        "message"
      ],
      "metadata": {
        "colab": {
          "base_uri": "https://localhost:8080/"
        },
        "id": "XwJlAv9S0U6l",
        "outputId": "87718911-9f15-4dcb-ac42-6d9021a00f03"
      },
      "execution_count": 88,
      "outputs": [
        {
          "output_type": "execute_result",
          "data": {
            "text/plain": [
              "[HumanMessage(content='can you add 5 and 9', additional_kwargs={}, response_metadata={}),\n",
              " RunnableBinding(bound=ChatOpenAI(client=<openai.resources.chat.completions.completions.Completions object at 0x78b94a416090>, async_client=<openai.resources.chat.completions.completions.AsyncCompletions object at 0x78b94a347f10>, root_client=<openai.OpenAI object at 0x78b94a415390>, root_async_client=<openai.AsyncOpenAI object at 0x78b94a34f090>, model_kwargs={}, openai_api_key=SecretStr('**********')), kwargs={'tools': [{'type': 'function', 'function': {'name': 'add', 'description': 'i will give you two number you will add them', 'parameters': {'properties': {'a': {'type': 'integer'}, 'b': {'type': 'integer'}}, 'required': ['a', 'b'], 'type': 'object'}}}, {'type': 'function', 'function': {'name': 'sub', 'description': 'i will give you two number you will subtract them', 'parameters': {'properties': {'a': {'type': 'integer'}, 'b': {'type': 'integer'}}, 'required': ['a', 'b'], 'type': 'object'}}}, {'type': 'function', 'function': {'name': 'mul', 'description': 'i will give you two number you will miltiply them', 'parameters': {'properties': {'a': {'type': 'integer'}, 'b': {'type': 'integer'}}, 'required': ['a', 'b'], 'type': 'object'}}}]}, config={}, config_factories=[]),\n",
              " ToolMessage(content='16', name='add', tool_call_id='call_ewCnmKNAQJGm3XBU3QQ3PlQX')]"
            ]
          },
          "metadata": {},
          "execution_count": 88
        }
      ]
    },
    {
      "cell_type": "code",
      "source": [
        "result.invoke(message)"
      ],
      "metadata": {
        "colab": {
          "base_uri": "https://localhost:8080/",
          "height": 141
        },
        "id": "bmCHQ8NJxzJy",
        "outputId": "f3c84dd0-fd73-4c72-d89b-39f3b0cda8b6"
      },
      "execution_count": 92,
      "outputs": [
        {
          "output_type": "error",
          "ename": "AttributeError",
          "evalue": "'dict' object has no attribute 'invoke'",
          "traceback": [
            "\u001b[0;31m---------------------------------------------------------------------------\u001b[0m",
            "\u001b[0;31mAttributeError\u001b[0m                            Traceback (most recent call last)",
            "\u001b[0;32m/tmp/ipython-input-92-3350192387.py\u001b[0m in \u001b[0;36m<cell line: 0>\u001b[0;34m()\u001b[0m\n\u001b[0;32m----> 1\u001b[0;31m \u001b[0mresult\u001b[0m\u001b[0;34m.\u001b[0m\u001b[0minvoke\u001b[0m\u001b[0;34m(\u001b[0m\u001b[0mmessage\u001b[0m\u001b[0;34m)\u001b[0m\u001b[0;34m\u001b[0m\u001b[0;34m\u001b[0m\u001b[0m\n\u001b[0m",
            "\u001b[0;31mAttributeError\u001b[0m: 'dict' object has no attribute 'invoke'"
          ]
        }
      ]
    },
    {
      "cell_type": "code",
      "source": [],
      "metadata": {
        "id": "ie-FjkqvxzHo"
      },
      "execution_count": null,
      "outputs": []
    },
    {
      "cell_type": "markdown",
      "metadata": {
        "id": "1aa13723"
      },
      "source": [
        "The error `ModuleNotFoundError: No module named 'langchain_openai'` indicates that the necessary library was not installed in the current session. To fix this, we need to run the `pip install` command to install the required packages."
      ]
    },
    {
      "cell_type": "code",
      "metadata": {
        "colab": {
          "base_uri": "https://localhost:8080/"
        },
        "id": "6cac0ae4",
        "outputId": "82a458e2-ff31-44d3-ed83-69bdf42cda07"
      },
      "source": [
        "!pip install -q langchain-openai langchain-core requests"
      ],
      "execution_count": 3,
      "outputs": [
        {
          "output_type": "stream",
          "name": "stdout",
          "text": [
            "\u001b[?25l   \u001b[90m━━━━━━━━━━━━━━━━━━━━━━━━━━━━━━━━━━━━━━━━\u001b[0m \u001b[32m0.0/70.6 kB\u001b[0m \u001b[31m?\u001b[0m eta \u001b[36m-:--:--\u001b[0m\r\u001b[2K   \u001b[91m━━━━━━━━━━━━━━━━━━━━━━━━━━━━━━━━━━\u001b[0m\u001b[91m╸\u001b[0m\u001b[90m━━━━━\u001b[0m \u001b[32m61.4/70.6 kB\u001b[0m \u001b[31m2.6 MB/s\u001b[0m eta \u001b[36m0:00:01\u001b[0m\r\u001b[2K   \u001b[90m━━━━━━━━━━━━━━━━━━━━━━━━━━━━━━━━━━━━━━━━\u001b[0m \u001b[32m70.6/70.6 kB\u001b[0m \u001b[31m1.7 MB/s\u001b[0m eta \u001b[36m0:00:00\u001b[0m\n",
            "\u001b[?25h"
          ]
        }
      ]
    },
    {
      "cell_type": "code",
      "metadata": {
        "id": "39ac0453"
      },
      "source": [
        "from langchain_openai import ChatOpenAI\n",
        "from langchain_core.tools import tool\n",
        "from langchain_core.messages import HumanMessage\n",
        "import requests"
      ],
      "execution_count": 4,
      "outputs": []
    }
  ]
}